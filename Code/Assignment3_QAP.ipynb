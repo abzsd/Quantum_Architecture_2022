{
 "cells": [
  {
   "cell_type": "code",
   "execution_count": 3,
   "id": "418ef713-b115-4a53-8fa9-2932cebed376",
   "metadata": {},
   "outputs": [],
   "source": [
    "import collections\n",
    "import supermarq\n",
    "import cirq\n",
    "import matplotlib.pyplot as plt\n",
    "import numpy as np\n",
    "from sklearn.linear_model import LinearRegression\n",
    "from qiskit import *"
   ]
  },
  {
   "cell_type": "markdown",
   "id": "a7b84245-fa44-409b-8c68-4cf2951a8557",
   "metadata": {},
   "source": [
    "# Introduction"
   ]
  },
  {
   "cell_type": "markdown",
   "id": "9b031ed9-358f-4c60-91c7-3dd91801a066",
   "metadata": {},
   "source": [
    "## Artifact Evaluation\n",
    "This notebook was created to serve as the reproducibility artifact for the paper \"SupermarQ: A Scalable Quantum Benchmark Suite\" accepted in the 28th IEEE International Symposium on High-Performance Computer Architecture (HPCA-28). The main contribution of this paper includes a quantum benchmark suite comprised of a number of different quantum applications. The software provided within this artifact includes the circuit generators and score functions for each benchmark application. This notebook provides an example of each benchmark: generating the quantum circuits with the provided parameters, simulating their execution via noisy density matrix simulation provided through Cirq (more on this in the following section), and finally computing the performance score of those executions.\n",
    "\n",
    "This notebook is meant to serve as an overview of the process used to generate and collect the benchmark results that were presented in the above paper. Each benchmark is defined within a file found in the `supermarq/benchmarks/` directory. This file defines a benchmark class that includes a function for generating the quantum circuits, and a function for evaluating the benchmark score.\n",
    "\n",
    "The first section of this notebook, **Benchmarks**, provides an overview of the benchmarks within the SupermarQ suite. The second section, **Features**, contains examples showing how the feature plots in Figure 1 were created (the corresponding code for the feature plots is contained in `supermarq/features.py`). Finally, the last section **Correlations** uses the raw data stored as Pandas dataframes within the `data/` directory to recreate Figures 4 and 5.\n",
    "\n",
    "### Simulation vs. Hardware Execution\n",
    "The benchmark results included in the SupermarQ paper were evaluated on real quantum computers including both superconducting and trapped ion processors. These systems were accessed over the cloud via services provided by IBM Quantum and Braket (Amazon). Access to some of these systems is restricted to certain users and the cost of running quantum programs varies among them. Because of these reasons, it would be impractical to exactly reproduce the results within the SupermarQ paper. Instead, we substitute the hardware executions with circuit simulations conducted via the Cirq SDK. \n",
    "\n",
    "### Installation Guide\n",
    "This artifact was generated using Python 3.8. We recommend creating a fresh python virtual environment. Then, the supermarq software package and all of its dependencies can be installed via:\n",
    "\n",
    "```\n",
    "cd SupermarQ_HPCA_Artifact\n",
    "pip install -r requirements.txt\n",
    "pip install -e .\n",
    "```"
   ]
  },
  {
   "cell_type": "code",
   "execution_count": 4,
   "id": "af0b8674-4531-43f4-ba29-30d6ded92653",
   "metadata": {},
   "outputs": [],
   "source": [
    "def noisy_simulation(circuit: cirq.Circuit, p: float) -> collections.Counter:\n",
    "    \"\"\"\n",
    "    Simulate the given circuit under a depolarizing noise model where every\n",
    "    gate operation has the chance of depolarizing the qubit with probability p.\n",
    "    \"\"\"\n",
    "    \n",
    "    shots = 1000\n",
    "    result = cirq.Simulator().run(circuit.with_noise(cirq.depolarize(p=p)),\n",
    "                                  repetitions=shots)\n",
    "\n",
    "    num_measured_qubits = []\n",
    "    for _, op in circuit.findall_operations(cirq.is_measurement):\n",
    "        num_measured_qubits.append(len(op.qubits))\n",
    "    raw_counts = result.multi_measurement_histogram(keys=result.measurements.keys())\n",
    "\n",
    "    # cirq.Result.multi_measurement_histogram returns a collection.Counter object\n",
    "    # where the keys are tuples of integers and the values are the shot counts.\n",
    "    # The integers in the keys indicate the bitstring result of each set of measurement tags.\n",
    "    counts: Dict[str, float] = collections.defaultdict(float)\n",
    "    for key, val in raw_counts.items():\n",
    "        bit_list = []\n",
    "        for int_tag, num_bits in zip(key, num_measured_qubits):\n",
    "            bit_list.extend(cirq.value.big_endian_int_to_bits(int_tag, bit_count=num_bits))\n",
    "        counts[\"\".join([str(b) for b in bit_list])] = val / shots\n",
    "\n",
    "    return collections.Counter(counts)"
   ]
  },
  {
   "cell_type": "markdown",
   "id": "c2e7335f-49e1-4ec5-a0d6-e85987e69de1",
   "metadata": {
    "tags": []
   },
   "source": [
    "# Benchmarks"
   ]
  },
  {
   "cell_type": "markdown",
   "id": "bc8e93ca-957d-42c6-963a-5678a7585c30",
   "metadata": {
    "tags": []
   },
   "source": [
    "## GHZ"
   ]
  },
  {
   "cell_type": "code",
   "execution_count": 6,
   "id": "386b1734-5d8c-4dac-b8bc-5c6375745132",
   "metadata": {},
   "outputs": [
    {
     "data": {
      "text/plain": [
       "supermarq.benchmarks.ghz.GHZ"
      ]
     },
     "execution_count": 6,
     "metadata": {},
     "output_type": "execute_result"
    }
   ],
   "source": [
    "supermarq.ghz.GHZ"
   ]
  },
  {
   "cell_type": "code",
   "execution_count": 7,
   "id": "e53b03f5-43ab-4e65-af36-3b3e605a155d",
   "metadata": {
    "scrolled": true
   },
   "outputs": [
    {
     "name": "stdout",
     "output_type": "stream",
     "text": [
      "0: ───H───@───────────────M───\n",
      "          │               │\n",
      "1: ───────X───@───────────M───\n",
      "              │           │\n",
      "2: ───────────X───@───────M───\n",
      "                  │       │\n",
      "3: ───────────────X───@───M───\n",
      "                      │   │\n",
      "4: ───────────────────X───M───\n"
     ]
    }
   ],
   "source": [
    "# Create the benchmark object and circuit\n",
    "num_qubits = 5\n",
    "ghz = supermarq.ghz.GHZ(num_qubits)\n",
    "ghz_circuit = ghz.circuit()\n",
    "print(ghz_circuit)"
   ]
  },
  {
   "cell_type": "markdown",
   "id": "ee6d4383",
   "metadata": {},
   "source": [
    "##### definig\n"
   ]
  },
  {
   "cell_type": "code",
   "execution_count": 8,
   "id": "640fa533",
   "metadata": {},
   "outputs": [],
   "source": [
    "#features.py\n",
    "\n",
    "import cirq\n",
    "import matplotlib.pyplot as plt\n",
    "import networkx as nx\n",
    "import numpy as np\n",
    "import qiskit\n",
    "from matplotlib.patches import Circle, RegularPolygon\n",
    "from matplotlib.path import Path\n",
    "from matplotlib.projections import register_projection\n",
    "from matplotlib.projections.polar import PolarAxes\n",
    "from matplotlib.spines import Spine\n",
    "from matplotlib.transforms import Affine2D\n",
    "from typing import Union\n",
    "\n",
    "\n",
    "def cirq_to_qiskit(circuit: cirq.Circuit) -> qiskit.circuit.QuantumCircuit:\n",
    "    qasm = cirq.circuits.QasmOutput(circuit, sorted(circuit.all_qubits()))\n",
    "    return qiskit.circuit.QuantumCircuit().from_qasm_str(str(qasm))\n",
    "\n",
    "\n",
    "def compute_connectivity(circuit: Union[cirq.Circuit, qiskit.circuit.QuantumCircuit]) -> float:\n",
    "    if isinstance(circuit, cirq.Circuit):\n",
    "        circ = cirq_to_qiskit(circuit)\n",
    "    else:\n",
    "        circ = circuit\n",
    "\n",
    "    N = circ.num_qubits\n",
    "    dag = qiskit.converters.circuit_to_dag(circ)\n",
    "    dag.remove_all_ops_named(\"barrier\")\n",
    "\n",
    "    G = nx.Graph()\n",
    "    for op in dag.two_qubit_ops():\n",
    "        q1, q2 = op.qargs\n",
    "        G.add_edge(q1.index, q2.index)\n",
    "\n",
    "    degree_sum = sum([G.degree(n) for n in G.nodes])\n",
    "\n",
    "    return degree_sum / (N * (N - 1))\n",
    "\n",
    "\n",
    "def compute_liveness(circuit: Union[cirq.Circuit, qiskit.circuit.QuantumCircuit]) -> float:\n",
    "    if isinstance(circuit, cirq.Circuit):\n",
    "        circ = cirq_to_qiskit(circuit)\n",
    "    else:\n",
    "        circ = circuit\n",
    "\n",
    "    N = circ.num_qubits\n",
    "    dag = qiskit.converters.circuit_to_dag(circ)\n",
    "    dag.remove_all_ops_named(\"barrier\")\n",
    "\n",
    "    activity_matrix = np.zeros((N, dag.depth()))\n",
    "\n",
    "    for i, layer in enumerate(dag.layers()):\n",
    "        for op in layer[\"partition\"]:\n",
    "            for qubit in op:\n",
    "                activity_matrix[qubit.index, i] = 1\n",
    "\n",
    "    return np.sum(activity_matrix) / (N * dag.depth())\n",
    "\n",
    "\n",
    "def compute_parallelism(circuit: Union[cirq.Circuit, qiskit.circuit.QuantumCircuit]) -> float:\n",
    "    if isinstance(circuit, cirq.Circuit):\n",
    "        circ = cirq_to_qiskit(circuit)\n",
    "    else:\n",
    "        circ = circuit\n",
    "\n",
    "    dag = qiskit.converters.circuit_to_dag(circ)\n",
    "    dag.remove_all_ops_named(\"barrier\")\n",
    "    return max(1 - (circ.depth() / len(dag.gate_nodes())), 0)\n",
    "\n",
    "\n",
    "def compute_measurement(circuit: Union[cirq.Circuit, qiskit.circuit.QuantumCircuit]) -> float:\n",
    "    \"\"\"\n",
    "    measurement feature = # of layers of mid-circuit measurement / circuit depth\n",
    "\n",
    "    Input\n",
    "    -----\n",
    "    circ : QuantumCircuit\n",
    "    \"\"\"\n",
    "    if isinstance(circuit, cirq.Circuit):\n",
    "        circ = cirq_to_qiskit(circuit)\n",
    "    else:\n",
    "        circ = circuit\n",
    "\n",
    "    dag = qiskit.converters.circuit_to_dag(circ)\n",
    "    dag.remove_all_ops_named(\"barrier\")\n",
    "\n",
    "    reset_moments = 0\n",
    "    gate_depth = dag.depth() - 1\n",
    "\n",
    "    for layer in dag.layers():\n",
    "        reset_present = False\n",
    "        for op in layer['graph'].op_nodes():\n",
    "            if op.name == 'reset':\n",
    "                reset_present += True\n",
    "        if reset_present:\n",
    "            reset_moments += 1\n",
    "\n",
    "    return reset_moments / gate_depth\n",
    "\n",
    "\n",
    "def compute_entanglement(circuit: Union[cirq.Circuit, qiskit.circuit.QuantumCircuit]) -> float:\n",
    "    if isinstance(circuit, cirq.Circuit):\n",
    "        circ = cirq_to_qiskit(circuit)\n",
    "    else:\n",
    "        circ = circuit\n",
    "\n",
    "    dag = qiskit.converters.circuit_to_dag(circ)\n",
    "    dag.remove_all_ops_named(\"barrier\")\n",
    "\n",
    "    return len(dag.two_qubit_ops()) / len(dag.gate_nodes())\n",
    "\n",
    "\n",
    "def compute_depth(circuit: Union[cirq.Circuit, qiskit.circuit.QuantumCircuit]) -> float:\n",
    "    if isinstance(circuit, cirq.Circuit):\n",
    "        circ = cirq_to_qiskit(circuit)\n",
    "    else:\n",
    "        circ = circuit\n",
    "\n",
    "    dag = qiskit.converters.circuit_to_dag(circ)\n",
    "    dag.remove_all_ops_named(\"barrier\")\n",
    "    n_ed = 0\n",
    "    two_q_gates = set([op.name for op in dag.two_qubit_ops()])\n",
    "    for name in two_q_gates:\n",
    "        try:\n",
    "            n_ed += dag.count_ops_longest_path()[name]\n",
    "        except KeyError:\n",
    "            continue\n",
    "    n_e = len(dag.two_qubit_ops())\n",
    "\n",
    "    if n_ed == 0:\n",
    "        return 0\n",
    "\n",
    "    return n_ed / n_e\n",
    "\n",
    "\n",
    "def radar_factory(num_vars, frame=\"circle\"):\n",
    "    \"\"\"\n",
    "    (https://matplotlib.org/stable/gallery/specialty_plots/radar_chart.html)\n",
    "\n",
    "    Create a radar chart with `num_vars` axes.\n",
    "\n",
    "    This function creates a RadarAxes projection and registers it.\n",
    "\n",
    "    Parameters\n",
    "    ----------\n",
    "    num_vars : int\n",
    "        Number of variables for radar chart.\n",
    "    frame : {'circle', 'polygon'}\n",
    "        Shape of frame surrounding axes.\n",
    "\n",
    "    \"\"\"\n",
    "    # calculate evenly-spaced axis angles\n",
    "    theta = np.linspace(0, 2 * np.pi, num_vars, endpoint=False)\n",
    "\n",
    "    class RadarAxes(PolarAxes):\n",
    "\n",
    "        name = \"radar\"\n",
    "        # use 1 line segment to connect specified points\n",
    "        RESOLUTION = 1\n",
    "\n",
    "        def __init__(self, *args, **kwargs):\n",
    "            super().__init__(*args, **kwargs)\n",
    "            # rotate plot such that the first axis is at the top\n",
    "            self.set_theta_zero_location(\"N\")\n",
    "\n",
    "        def fill(self, *args, closed=True, **kwargs):\n",
    "            \"\"\"Override fill so that line is closed by default\"\"\"\n",
    "            return super().fill(closed=closed, *args, **kwargs)\n",
    "\n",
    "        def plot(self, *args, **kwargs):\n",
    "            \"\"\"Override plot so that line is closed by default\"\"\"\n",
    "            lines = super().plot(*args, **kwargs)\n",
    "            for line in lines:\n",
    "                self._close_line(line)\n",
    "\n",
    "        def _close_line(self, line):\n",
    "            x, y = line.get_data()\n",
    "            # FIXME: markers at x[0], y[0] get doubled-up\n",
    "            if x[0] != x[-1]:\n",
    "                x = np.append(x, x[0])\n",
    "                y = np.append(y, y[0])\n",
    "                line.set_data(x, y)\n",
    "\n",
    "        def set_varlabels(self, labels):\n",
    "            self.set_thetagrids(np.degrees(theta), labels, fontsize=14)\n",
    "\n",
    "        def _gen_axes_patch(self):\n",
    "            # The Axes patch must be centered at (0.5, 0.5) and of radius 0.5\n",
    "            # in axes coordinates.\n",
    "            if frame == \"circle\":\n",
    "                return Circle((0.5, 0.5), 0.5)\n",
    "            elif frame == \"polygon\":\n",
    "                return RegularPolygon((0.5, 0.5), num_vars, radius=0.5, edgecolor=\"k\")\n",
    "            else:\n",
    "                raise ValueError(\"Unknown value for 'frame': %s\" % frame)\n",
    "\n",
    "        def _gen_axes_spines(self):\n",
    "            if frame == \"circle\":\n",
    "                return super()._gen_axes_spines()\n",
    "            elif frame == \"polygon\":\n",
    "                # spine_type must be 'left'/'right'/'top'/'bottom'/'circle'.\n",
    "                spine = Spine(\n",
    "                    axes=self, spine_type=\"circle\", path=Path.unit_regular_polygon(num_vars)\n",
    "                )\n",
    "                # unit_regular_polygon gives a polygon of radius 1 centered at\n",
    "                # (0, 0) but we want a polygon of radius 0.5 centered at (0.5,\n",
    "                # 0.5) in axes coordinates.\n",
    "                spine.set_transform(Affine2D().scale(0.5).translate(0.5, 0.5) + self.transAxes)\n",
    "                return {\"polar\": spine}\n",
    "            else:\n",
    "                raise ValueError(\"Unknown value for 'frame': %s\" % frame)\n",
    "\n",
    "    register_projection(RadarAxes)\n",
    "    return theta\n",
    "\n",
    "\n",
    "def plot_benchmark(data, show=True, savefn=None, spoke_labels=None, legend_loc=(0.75, 0.85)):\n",
    "    \"\"\"\n",
    "    Create a radar plot of the given benchmarks.\n",
    "\n",
    "    Input\n",
    "    -----\n",
    "    data : List\n",
    "        Contains the title, feature data, and labels in the format:\n",
    "        [title, [labels], [feature vecs: [con, liv, par, mea, ent] ]]\n",
    "    \"\"\"\n",
    "    plt.rcParams[\"font.family\"] = \"Times New Roman\"\n",
    "\n",
    "    if spoke_labels is None:\n",
    "        spoke_labels = [\"Connectivity\", \"Liveness\", \"Parallelism\", \"Measurement\", \"Entanglement\"]\n",
    "\n",
    "    N = len(spoke_labels)\n",
    "    theta = radar_factory(N, frame=\"circle\")\n",
    "\n",
    "    fig, ax = plt.subplots(dpi=150, subplot_kw=dict(projection=\"radar\"))\n",
    "    # fig.subplots_adjust(wspace=0.25, hspace=0.20, top=0.85, bottom=0.05)\n",
    "\n",
    "    title, labels, case_data = data\n",
    "    #ax.set_rgrids([0.2, 0.4, 0.6, 0.8])\n",
    "    ax.set_rgrids([0.0, 0.2, 0.4, 0.6, 0.8, 1.0])\n",
    "    # ax.set_title(title, weight='bold', size='medium', position=(0.5, 1.1),\n",
    "    #             horizontalalignment='center', verticalalignment='center')\n",
    "    for d, label in zip(case_data, labels):\n",
    "        ax.plot(theta, d, label=label)\n",
    "        ax.fill(theta, d, alpha=0.25)\n",
    "    ax.set_varlabels(spoke_labels)\n",
    "\n",
    "    ax.legend(loc=legend_loc, labelspacing=0.1, fontsize=11)\n",
    "    plt.tight_layout()\n",
    "\n",
    "    if savefn is not None:\n",
    "        plt.savefig(savefn)\n",
    "\n",
    "    if show:\n",
    "        plt.show()\n",
    "\n",
    "    plt.close()"
   ]
  },
  {
   "cell_type": "markdown",
   "id": "1864f19f",
   "metadata": {},
   "source": [
    "## bruh"
   ]
  },
  {
   "cell_type": "code",
   "execution_count": 9,
   "id": "819509b8",
   "metadata": {},
   "outputs": [],
   "source": [
    "#convert ghz circuit to qiskit circuit\n",
    "\n",
    "circuit = cirq_to_qiskit(ghz_circuit)"
   ]
  },
  {
   "cell_type": "code",
   "execution_count": 12,
   "id": "c2d3c93a",
   "metadata": {},
   "outputs": [
    {
     "data": {
      "text/html": [
       "<pre style=\"word-wrap: normal;white-space: pre;background: #fff0;line-height: 1.1;font-family: &quot;Courier New&quot;,Courier,monospace\">      ┌───┐          ┌─┐                      \n",
       " q_0: ┤ H ├──■───────┤M├──────────────────────\n",
       "      └───┘┌─┴─┐     └╥┘     ┌─┐              \n",
       " q_1: ─────┤ X ├──■───╫──────┤M├──────────────\n",
       "           └───┘┌─┴─┐ ║      └╥┘     ┌─┐      \n",
       " q_2: ──────────┤ X ├─╫───■───╫──────┤M├──────\n",
       "                └───┘ ║ ┌─┴─┐ ║      └╥┘┌─┐   \n",
       " q_3: ────────────────╫─┤ X ├─╫───■───╫─┤M├───\n",
       "                      ║ └───┘ ║ ┌─┴─┐ ║ └╥┘┌─┐\n",
       " q_4: ────────────────╫───────╫─┤ X ├─╫──╫─┤M├\n",
       "                      ║       ║ └───┘ ║  ║ └╥┘\n",
       "m0: 5/════════════════╩═══════╩═══════╩══╩══╩═\n",
       "                      0       1       2  3  4 </pre>"
      ],
      "text/plain": [
       "      ┌───┐          ┌─┐                      \n",
       " q_0: ┤ H ├──■───────┤M├──────────────────────\n",
       "      └───┘┌─┴─┐     └╥┘     ┌─┐              \n",
       " q_1: ─────┤ X ├──■───╫──────┤M├──────────────\n",
       "           └───┘┌─┴─┐ ║      └╥┘     ┌─┐      \n",
       " q_2: ──────────┤ X ├─╫───■───╫──────┤M├──────\n",
       "                └───┘ ║ ┌─┴─┐ ║      └╥┘┌─┐   \n",
       " q_3: ────────────────╫─┤ X ├─╫───■───╫─┤M├───\n",
       "                      ║ └───┘ ║ ┌─┴─┐ ║ └╥┘┌─┐\n",
       " q_4: ────────────────╫───────╫─┤ X ├─╫──╫─┤M├\n",
       "                      ║       ║ └───┘ ║  ║ └╥┘\n",
       "m0: 5/════════════════╩═══════╩═══════╩══╩══╩═\n",
       "                      0       1       2  3  4 "
      ]
     },
     "execution_count": 12,
     "metadata": {},
     "output_type": "execute_result"
    }
   ],
   "source": [
    "circuit.draw()"
   ]
  },
  {
   "cell_type": "code",
   "execution_count": 13,
   "id": "df4b645e",
   "metadata": {},
   "outputs": [
    {
     "name": "stderr",
     "output_type": "stream",
     "text": [
      "<ipython-input-8-83d30798347a>:57: DeprecationWarning: Back-references to from Bit instances to their containing Registers have been deprecated. Instead, inspect Registers to find their contained Bits.\n",
      "  activity_matrix[qubit.index, i] = 1\n"
     ]
    },
    {
     "data": {
      "text/plain": [
       "0.4666666666666667"
      ]
     },
     "execution_count": 13,
     "metadata": {},
     "output_type": "execute_result"
    }
   ],
   "source": [
    "# analysing the feature vectors\n",
    "\n",
    "compute_liveness(circuit)\n",
    "\n"
   ]
  },
  {
   "cell_type": "code",
   "execution_count": 14,
   "id": "3b4d48fa",
   "metadata": {},
   "outputs": [
    {
     "name": "stderr",
     "output_type": "stream",
     "text": [
      "<ipython-input-8-83d30798347a>:35: DeprecationWarning: Back-references to from Bit instances to their containing Registers have been deprecated. Instead, inspect Registers to find their contained Bits.\n",
      "  G.add_edge(q1.index, q2.index)\n"
     ]
    },
    {
     "data": {
      "text/plain": [
       "0.4"
      ]
     },
     "execution_count": 14,
     "metadata": {},
     "output_type": "execute_result"
    }
   ],
   "source": [
    "compute_connectivity(circuit)"
   ]
  },
  {
   "cell_type": "code",
   "execution_count": 15,
   "id": "45319966",
   "metadata": {},
   "outputs": [
    {
     "data": {
      "text/plain": [
       "0"
      ]
     },
     "execution_count": 15,
     "metadata": {},
     "output_type": "execute_result"
    }
   ],
   "source": [
    "compute_parallelism(circuit)"
   ]
  },
  {
   "cell_type": "code",
   "execution_count": 16,
   "id": "ffd63d62",
   "metadata": {},
   "outputs": [
    {
     "data": {
      "text/plain": [
       "0.0"
      ]
     },
     "execution_count": 16,
     "metadata": {},
     "output_type": "execute_result"
    }
   ],
   "source": [
    "compute_measurement(circuit)"
   ]
  },
  {
   "cell_type": "code",
   "execution_count": 17,
   "id": "eac99697",
   "metadata": {},
   "outputs": [
    {
     "data": {
      "text/plain": [
       "0.8"
      ]
     },
     "execution_count": 17,
     "metadata": {},
     "output_type": "execute_result"
    }
   ],
   "source": [
    "compute_entanglement(circuit)"
   ]
  },
  {
   "cell_type": "code",
   "execution_count": 18,
   "id": "4d0dde23",
   "metadata": {},
   "outputs": [
    {
     "data": {
      "text/plain": [
       "1.0"
      ]
     },
     "execution_count": 18,
     "metadata": {},
     "output_type": "execute_result"
    }
   ],
   "source": [
    "compute_depth(circuit)"
   ]
  },
  {
   "cell_type": "code",
   "execution_count": 19,
   "id": "9a30a0a2-cf88-418a-9893-173c7f69a23e",
   "metadata": {
    "scrolled": true
   },
   "outputs": [
    {
     "name": "stdout",
     "output_type": "stream",
     "text": [
      "With 0.0% error probability, GHZ score = 0.9999\n",
      "With 0.5% error probability, GHZ score = 0.9170\n",
      "With 2.0% error probability, GHZ score = 0.7180\n"
     ]
    }
   ],
   "source": [
    "# Perform noisy simulation and evaluate the benchmark score function\n",
    "ghz_scores = []\n",
    "for error_prob in [0.0, 0.005, 0.02]:\n",
    "    counts = noisy_simulation(ghz_circuit, p=error_prob)\n",
    "    score = ghz.score(counts)\n",
    "    ghz_scores.append((error_prob, score))\n",
    "    print(f'With {error_prob*100:.1f}% error probability, GHZ score = {score:.4f}')"
   ]
  },
  {
   "cell_type": "code",
   "execution_count": 20,
   "id": "e85405f5-a4a9-4489-8f4f-e81d3847c0aa",
   "metadata": {
    "scrolled": true
   },
   "outputs": [
    {
     "data": {
      "image/png": "[encoded data removed]",
      "text/plain": [
       "<Figure size 900x600 with 1 Axes>"
      ]
     },
     "metadata": {
      "needs_background": "light"
     },
     "output_type": "display_data"
    }
   ],
   "source": [
    "# Plot the results\n",
    "fig, ax = plt.subplots(dpi=150)\n",
    "width = 0.1\n",
    "\n",
    "for i, (error_prob, score) in enumerate(ghz_scores):\n",
    "    x = width * i\n",
    "    ax.bar(x, score, width=width, label=f'{error_prob * 100:.1f}%', align='edge')\n",
    "\n",
    "ax.legend()\n",
    "ax.set_title('GHZ Scores')\n",
    "ax.get_xaxis().set_visible(False)"
   ]
  },
  {
   "cell_type": "markdown",
   "id": "58543da4-57d5-46f4-82fd-b2993514bd64",
   "metadata": {},
   "source": [
    "## Mermin-Bell"
   ]
  },
  {
   "cell_type": "code",
   "execution_count": 21,
   "id": "34d0a973-179d-4b8b-beed-1d7afe7dd796",
   "metadata": {},
   "outputs": [
    {
     "data": {
      "text/plain": [
       "supermarq.benchmarks.mermin_bell.MerminBell"
      ]
     },
     "execution_count": 21,
     "metadata": {},
     "output_type": "execute_result"
    }
   ],
   "source": [
    "supermarq.mermin_bell.MerminBell"
   ]
  },
  {
   "cell_type": "code",
   "execution_count": 22,
   "id": "299dc0a8-dd5a-45e2-8d86-93f202f1fac0",
   "metadata": {},
   "outputs": [
    {
     "name": "stdout",
     "output_type": "stream",
     "text": [
      "0: ───Rx(-0.5π)───@───────────@───────X───X───S───@───H───────M───\n",
      "                  │           │       │   │       │           │\n",
      "1: ───────────────X───@───H───┼───@───┼───@───────@───S───H───M───\n",
      "                      │       │   │   │                       │\n",
      "2: ───────────────────X───H───X───X───@───S───H───────────────M───\n"
     ]
    }
   ],
   "source": [
    "# Create the benchmark object and circuit\n",
    "num_qubits = 3\n",
    "merminbell = supermarq.mermin_bell.MerminBell(num_qubits)\n",
    "mb_circuit = merminbell.circuit()\n",
    "print(mb_circuit)"
   ]
  },
  {
   "cell_type": "code",
   "execution_count": 23,
   "id": "a100f2b6",
   "metadata": {},
   "outputs": [],
   "source": [
    "circuit = cirq_to_qiskit(mb_circuit)"
   ]
  },
  {
   "cell_type": "code",
   "execution_count": 24,
   "id": "bc4f6e99",
   "metadata": {},
   "outputs": [
    {
     "data": {
      "text/plain": [
       "0.1875"
      ]
     },
     "execution_count": 24,
     "metadata": {},
     "output_type": "execute_result"
    }
   ],
   "source": [
    "compute_parallelism(circuit)"
   ]
  },
  {
   "cell_type": "code",
   "execution_count": 25,
   "id": "7b7ef4ae",
   "metadata": {},
   "outputs": [
    {
     "name": "stderr",
     "output_type": "stream",
     "text": [
      "<ipython-input-8-83d30798347a>:35: DeprecationWarning: Back-references to from Bit instances to their containing Registers have been deprecated. Instead, inspect Registers to find their contained Bits.\n",
      "  G.add_edge(q1.index, q2.index)\n"
     ]
    },
    {
     "data": {
      "text/plain": [
       "1.0"
      ]
     },
     "execution_count": 25,
     "metadata": {},
     "output_type": "execute_result"
    }
   ],
   "source": [
    "compute_connectivity(circuit)"
   ]
  },
  {
   "cell_type": "code",
   "execution_count": 26,
   "id": "36da3f3b-013e-416f-9949-4ff25c9f1562",
   "metadata": {},
   "outputs": [
    {
     "name": "stdout",
     "output_type": "stream",
     "text": [
      "With 0.0% error probability, MerminBell score = 1.0000\n",
      "With 0.5% error probability, MerminBell score = 0.9190\n",
      "With 2.0% error probability, MerminBell score = 0.7430\n"
     ]
    }
   ],
   "source": [
    "# Perform noisy simulation and evaluate the benchmark score function\n",
    "merminbell_scores = []\n",
    "for error_prob in [0.0, 0.005, 0.02]:\n",
    "    counts = noisy_simulation(mb_circuit, p=error_prob)\n",
    "    score = merminbell.score(counts)\n",
    "    merminbell_scores.append((error_prob, score))\n",
    "    print(f'With {error_prob*100:.1f}% error probability, MerminBell score = {score:.4f}')"
   ]
  },
  {
   "cell_type": "code",
   "execution_count": 27,
   "id": "ab3e3a34-fbb1-4925-99c0-cc74f93be35d",
   "metadata": {},
   "outputs": [
    {
     "data": {
      "image/png": "[encoded data removed]",
      "text/plain": [
       "<Figure size 900x600 with 1 Axes>"
      ]
     },
     "metadata": {
      "needs_background": "light"
     },
     "output_type": "display_data"
    }
   ],
   "source": [
    "# Plot the results\n",
    "fig, ax = plt.subplots(dpi=150)\n",
    "width = 0.1\n",
    "\n",
    "for i, (error_prob, score) in enumerate(merminbell_scores):\n",
    "    \n",
    "    x = width * i\n",
    "    ax.bar(x, score, width=width, label=f'{error_prob * 100:.1f}%', align='edge')\n",
    "\n",
    "ax.legend()\n",
    "ax.set_title('Mermin-Bell Scores')\n",
    "ax.get_xaxis().set_visible(False)"
   ]
  },
  {
   "cell_type": "markdown",
   "id": "15fde745-754d-4217-8eae-db3872dfb70d",
   "metadata": {},
   "source": [
    "## Bit Code"
   ]
  },
  {
   "cell_type": "code",
   "execution_count": null,
   "id": "3228e70c-07ab-4b5c-a234-1c57f944775a",
   "metadata": {},
   "outputs": [],
   "source": [
    "supermarq.bit_code.BitCode?"
   ]
  },
  {
   "cell_type": "code",
   "execution_count": null,
   "id": "ae31e9ab-0ef5-413f-8c84-cf29a2339b2c",
   "metadata": {},
   "outputs": [],
   "source": [
    "# Create the benchmark object and circuit\n",
    "num_data_qubits = 3\n",
    "num_rounds = 2\n",
    "bit_state = [0, 1, 0]\n",
    "bitcode = supermarq.bit_code.BitCode(num_data_qubits, num_rounds, bit_state)\n",
    "bitcode_circuit = bitcode.circuit()\n",
    "print(bitcode_circuit)"
   ]
  },
  {
   "cell_type": "code",
   "execution_count": null,
   "id": "940631e4-9b21-429f-bd41-5a553d9c1760",
   "metadata": {},
   "outputs": [],
   "source": [
    "# Perform noisy simulation and evaluate the benchmark score function\n",
    "bitcode_scores = []\n",
    "for error_prob in [0.0, 0.005, 0.02]:\n",
    "    counts = noisy_simulation(bitcode_circuit, p=error_prob)\n",
    "    score = bitcode.score(counts)\n",
    "    bitcode_scores.append((error_prob, score))\n",
    "    print(f'With {error_prob*100:.1f}% error probability, BitCode score = {score:.4f}')"
   ]
  },
  {
   "cell_type": "code",
   "execution_count": null,
   "id": "bca719c6-b63e-4231-b131-3ca30ca8a17e",
   "metadata": {},
   "outputs": [],
   "source": [
    "# Plot the results\n",
    "fig, ax = plt.subplots(dpi=150)\n",
    "width = 0.1\n",
    "\n",
    "for i, (error_prob, score) in enumerate(bitcode_scores):\n",
    "    \n",
    "    x = width * i\n",
    "    ax.bar(x, score, width=width, label=f'{error_prob * 100:.1f}%', align='edge')\n",
    "\n",
    "ax.legend()\n",
    "ax.set_title('Bit Code Scores')\n",
    "ax.get_xaxis().set_visible(False)"
   ]
  },
  {
   "cell_type": "markdown",
   "id": "580920fc-82f0-46b8-bf2c-4b5ea4e78690",
   "metadata": {},
   "source": [
    "## Phase Code"
   ]
  },
  {
   "cell_type": "code",
   "execution_count": 29,
   "id": "c1546c4e-cae5-4a2d-9ede-3d6cc6f4e8b2",
   "metadata": {},
   "outputs": [
    {
     "data": {
      "text/plain": [
       "supermarq.benchmarks.phase_code.PhaseCode"
      ]
     },
     "execution_count": 29,
     "metadata": {},
     "output_type": "execute_result"
    }
   ],
   "source": [
    "supermarq.phase_code.PhaseCode"
   ]
  },
  {
   "cell_type": "code",
   "execution_count": 30,
   "id": "f18a5ebe-61d6-4ed0-b000-5db8bc9fe5f6",
   "metadata": {},
   "outputs": [
    {
     "name": "stdout",
     "output_type": "stream",
     "text": [
      "0: ───H───H───@───H───H───────────────────────────────@───H───H───────────────────────────M('meas_all')───\n",
      "              │                                       │                                   │\n",
      "1: ───H───────@───@───H───────────M('mcm0')───R───H───@───@───H───────────M('mcm1')───R───M───────────────\n",
      "                  │               │                       │               │               │\n",
      "2: ───X───H───H───@───@───H───H───┼───────────────────────@───@───H───H───┼───────────────M───────────────\n",
      "                      │           │                           │           │               │\n",
      "3: ───H───────────────@───@───H───M───────────R───H───────────@───@───H───M───────────R───M───────────────\n",
      "                          │                                       │                       │\n",
      "4: ───H───H───────────────@───H───H───────────────────────────────@───H───H───────────────M───────────────\n"
     ]
    }
   ],
   "source": [
    "# Create the benchmark object and circuit\n",
    "num_data_qubits = 3\n",
    "num_rounds = 2\n",
    "phase_state = [0, 1, 0]\n",
    "phasecode = supermarq.phase_code.PhaseCode(num_data_qubits, num_rounds, phase_state)\n",
    "phasecode_circuit = phasecode.circuit()\n",
    "print(phasecode_circuit)"
   ]
  },
  {
   "cell_type": "code",
   "execution_count": 31,
   "id": "e8bcb1da-826b-4d6f-8b73-9dca74241332",
   "metadata": {},
   "outputs": [
    {
     "name": "stdout",
     "output_type": "stream",
     "text": [
      "With 0.0% error probability, PhaseCode score = 0.0000\n",
      "With 0.5% error probability, PhaseCode score = 0.0000\n",
      "With 2.0% error probability, PhaseCode score = 0.0000\n"
     ]
    }
   ],
   "source": [
    "# Perform noisy simulation and evaluate the benchmark score function\n",
    "phasecode_scores = []\n",
    "for error_prob in [0.0, 0.005, 0.02]:\n",
    "    counts = noisy_simulation(phasecode_circuit, p=error_prob)\n",
    "    score = phasecode.score(counts)\n",
    "    phasecode_scores.append((error_prob, score))\n",
    "    print(f'With {error_prob*100:.1f}% error probability, PhaseCode score = {score:.4f}')"
   ]
  },
  {
   "cell_type": "code",
   "execution_count": null,
   "id": "413f0023-77a1-4c18-a444-aafbff52ed2e",
   "metadata": {},
   "outputs": [],
   "source": [
    "# Plot the results\n",
    "fig, ax = plt.subplots(dpi=150)\n",
    "width = 0.1\n",
    "\n",
    "for i, (error_prob, score) in enumerate(phasecode_scores):\n",
    "    \n",
    "    x = width * i\n",
    "    ax.bar(x, score, width=width, label=f'{error_prob * 100:.1f}%', align='edge')\n",
    "\n",
    "ax.legend()\n",
    "ax.set_title('Phase Code Scores')\n",
    "ax.get_xaxis().set_visible(False)"
   ]
  },
  {
   "cell_type": "markdown",
   "id": "d9182cc9-7ae0-41cd-9464-9aa145a393e7",
   "metadata": {},
   "source": [
    "## VQE"
   ]
  },
  {
   "cell_type": "code",
   "execution_count": 28,
   "id": "ac6fcc8d-2edd-4c29-b4df-1ab386505005",
   "metadata": {},
   "outputs": [
    {
     "ename": "AttributeError",
     "evalue": "module 'supermarq' has no attribute 'vqe_proxy'",
     "output_type": "error",
     "traceback": [
      "\u001b[1;31m---------------------------------------------------------------------------\u001b[0m",
      "\u001b[1;31mAttributeError\u001b[0m                            Traceback (most recent call last)",
      "\u001b[1;32m<ipython-input-28-6451e5a2809b>\u001b[0m in \u001b[0;36m<module>\u001b[1;34m\u001b[0m\n\u001b[1;32m----> 1\u001b[1;33m \u001b[0msupermarq\u001b[0m\u001b[1;33m.\u001b[0m\u001b[0mvqe_proxy\u001b[0m\u001b[1;33m.\u001b[0m\u001b[0mVQEProxy\u001b[0m\u001b[1;33m\u001b[0m\u001b[1;33m\u001b[0m\u001b[0m\n\u001b[0m",
      "\u001b[1;31mAttributeError\u001b[0m: module 'supermarq' has no attribute 'vqe_proxy'"
     ]
    }
   ],
   "source": [
    "supermarq."
   ]
  },
  {
   "cell_type": "code",
   "execution_count": null,
   "id": "04d404d5-c09a-488e-aa7b-3b86b62b36f4",
   "metadata": {},
   "outputs": [],
   "source": [
    "# Create the benchmark object and circuit\n",
    "num_qubits = 3\n",
    "num_layers = 2\n",
    "vqe = supermarq.vqe_proxy.VQEProxy(num_qubits, num_layers)\n",
    "vqe_circuit = vqe.circuit()\n",
    "print('Z basis circuit:')\n",
    "print(vqe_circuit[0])\n",
    "print('\\nX basis circuit:')\n",
    "print(vqe_circuit[1])"
   ]
  },
  {
   "cell_type": "code",
   "execution_count": null,
   "id": "389936d8-9a64-44bf-bca8-16b0a43c7f9c",
   "metadata": {},
   "outputs": [],
   "source": [
    "# Perform noisy simulation and evaluate the benchmark score function\n",
    "vqe_scores = []\n",
    "for error_prob in [0.0, 0.005, 0.02]:\n",
    "    z_counts = noisy_simulation(vqe_circuit[0], p=error_prob)\n",
    "    x_counts = noisy_simulation(vqe_circuit[1], p=error_prob)\n",
    "    score = vqe.score([z_counts, x_counts])\n",
    "    vqe_scores.append((error_prob, score))\n",
    "    print(f'With {error_prob*100:.1f}% error probability, VQE score = {score:.4f}')"
   ]
  },
  {
   "cell_type": "code",
   "execution_count": null,
   "id": "ca2c2998-a30c-4bfa-9324-1a0cd84ca11f",
   "metadata": {},
   "outputs": [],
   "source": [
    "# Plot the results\n",
    "fig, ax = plt.subplots(dpi=150)\n",
    "width = 0.1\n",
    "\n",
    "for i, (error_prob, score) in enumerate(vqe_scores):\n",
    "    \n",
    "    x = width * i\n",
    "    ax.bar(x, score, width=width, label=f'{error_prob * 100:.1f}%', align='edge')\n",
    "\n",
    "ax.legend()\n",
    "ax.set_title('VQE Scores')\n",
    "ax.get_xaxis().set_visible(False)"
   ]
  },
  {
   "cell_type": "markdown",
   "id": "f61ff065-4b9b-4341-85c6-75200a69d371",
   "metadata": {},
   "source": [
    "## Hamiltonian Simulation"
   ]
  },
  {
   "cell_type": "code",
   "execution_count": 32,
   "id": "5699e7aa-2140-4918-bac3-91f48b24b3e0",
   "metadata": {},
   "outputs": [
    {
     "data": {
      "text/plain": [
       "supermarq.benchmarks.hamiltonian_simulation.HamiltonianSimulation"
      ]
     },
     "execution_count": 32,
     "metadata": {},
     "output_type": "execute_result"
    }
   ],
   "source": [
    "supermarq.hamiltonian_simulation.HamiltonianSimulation"
   ]
  },
  {
   "cell_type": "code",
   "execution_count": null,
   "id": "ad6e56e9-69ce-4da3-bd1a-c31aa7abe2db",
   "metadata": {},
   "outputs": [],
   "source": [
    "# Create the benchmark object and circuit\n",
    "num_qubits = 3\n",
    "time_step = 1\n",
    "total_time = 2\n",
    "hamsim = supermarq.hamiltonian_simulation.HamiltonianSimulation(num_qubits, time_step, total_time)\n",
    "hamsim_circuit = hamsim.circuit()\n",
    "print(hamsim_circuit)"
   ]
  },
  {
   "cell_type": "code",
   "execution_count": null,
   "id": "b570ecfa-7157-4162-bdc7-791806bf1382",
   "metadata": {},
   "outputs": [],
   "source": [
    "# Perform noisy simulation and evaluate the benchmark score function\n",
    "hamsim_scores = []\n",
    "for error_prob in [0.0, 0.005, 0.02]:\n",
    "    counts = noisy_simulation(hamsim_circuit, p=error_prob)\n",
    "    score = hamsim.score(counts)\n",
    "    hamsim_scores.append((error_prob, score))\n",
    "    print(f'With {error_prob*100:.1f}% error probability, Hamiltonian Simulation score = {score:.4f}')"
   ]
  },
  {
   "cell_type": "code",
   "execution_count": null,
   "id": "7703aca0-d964-42a8-a4f0-07c98599cee3",
   "metadata": {},
   "outputs": [],
   "source": [
    "# Plot the results\n",
    "fig, ax = plt.subplots(dpi=150)\n",
    "width = 0.1\n",
    "\n",
    "for i, (error_prob, score) in enumerate(hamsim_scores):\n",
    "    \n",
    "    x = width * i\n",
    "    ax.bar(x, score, width=width, label=f'{error_prob * 100:.1f}%', align='edge')\n",
    "\n",
    "ax.legend()\n",
    "ax.set_title('Hamiltonian Simulation Scores')\n",
    "ax.get_xaxis().set_visible(False)"
   ]
  },
  {
   "cell_type": "markdown",
   "id": "cbefbc14-da84-4bdc-b4b3-901a46017fce",
   "metadata": {},
   "source": [
    "## Fermionic-SWAP QAOA"
   ]
  },
  {
   "cell_type": "code",
   "execution_count": 33,
   "id": "53475bcd-2be0-4244-8293-6fac754764cf",
   "metadata": {},
   "outputs": [
    {
     "data": {
      "text/plain": [
       "supermarq.benchmarks.qaoa_fermionic_swap_proxy.QAOAFermionicSwapProxy"
      ]
     },
     "execution_count": 33,
     "metadata": {},
     "output_type": "execute_result"
    }
   ],
   "source": [
    "supermarq.qaoa_fermionic_swap_proxy.QAOAFermionicSwapProxy"
   ]
  },
  {
   "cell_type": "code",
   "execution_count": null,
   "id": "388b42aa-4a34-499b-8fe4-15dbf5f4978d",
   "metadata": {},
   "outputs": [],
   "source": [
    "# Create the benchmark object and circuit\n",
    "num_qubits = 3\n",
    "fermionic_qaoa = supermarq.qaoa_fermionic_swap_proxy.QAOAFermionicSwapProxy(num_qubits)\n",
    "fqaoa_circuit = fermionic_qaoa.circuit()\n",
    "print(fqaoa_circuit)"
   ]
  },
  {
   "cell_type": "code",
   "execution_count": null,
   "id": "8adf571a-c2a9-4b94-a086-f6c45ec3d2d4",
   "metadata": {},
   "outputs": [],
   "source": [
    "# Perform noisy simulation and evaluate the benchmark score function\n",
    "fqaoa_scores = []\n",
    "for error_prob in [0.0, 0.005, 0.02]:\n",
    "    counts = noisy_simulation(fqaoa_circuit, p=error_prob)\n",
    "    score = fermionic_qaoa.score(counts)\n",
    "    fqaoa_scores.append((error_prob, score))\n",
    "    print(f'With {error_prob*100:.1f}% error probability, Fermionic SWAP QAOA score = {score:.4f}')"
   ]
  },
  {
   "cell_type": "code",
   "execution_count": null,
   "id": "dd7ae23a-ac3c-4c74-814c-1654dd3a4b96",
   "metadata": {},
   "outputs": [],
   "source": [
    "# Plot the results\n",
    "fig, ax = plt.subplots(dpi=150)\n",
    "width = 0.1\n",
    "\n",
    "for i, (error_prob, score) in enumerate(fqaoa_scores):\n",
    "    \n",
    "    x = width * i\n",
    "    ax.bar(x, score, width=width, label=f'{error_prob * 100:.1f}%', align='edge')\n",
    "\n",
    "ax.legend()\n",
    "ax.set_title('Fermionic SWAP QAOA Scores')\n",
    "ax.get_xaxis().set_visible(False)"
   ]
  },
  {
   "cell_type": "markdown",
   "id": "8d8db022-a9d6-4146-8b5a-0a1f54495726",
   "metadata": {},
   "source": [
    "## Vanilla QAOA"
   ]
  },
  {
   "cell_type": "code",
   "execution_count": null,
   "id": "6e7bbe1c-fab2-4d01-aa57-bc0028fc36f8",
   "metadata": {},
   "outputs": [],
   "source": [
    "supermarq.qaoa_vanilla_proxy.QAOAVanillaProxy"
   ]
  },
  {
   "cell_type": "code",
   "execution_count": null,
   "id": "28c073b4-5b6b-41db-9e16-ccc2bf0c1a58",
   "metadata": {},
   "outputs": [],
   "source": [
    "# Create the benchmark object and circuit\n",
    "num_qubits = 3\n",
    "vanilla_qaoa = supermarq.qaoa_vanilla_proxy.QAOAVanillaProxy(num_qubits)\n",
    "vqaoa_circuit = vanilla_qaoa.circuit()\n",
    "print(vqaoa_circuit)"
   ]
  },
  {
   "cell_type": "code",
   "execution_count": null,
   "id": "2278b13d-5653-4eca-8537-ce25f1137704",
   "metadata": {},
   "outputs": [],
   "source": [
    "# Perform noisy simulation and evaluate the benchmark score function\n",
    "vqaoa_scores = []\n",
    "for error_prob in [0.0, 0.005, 0.02]:\n",
    "    counts = noisy_simulation(vqaoa_circuit, p=error_prob)\n",
    "    score = vanilla_qaoa.score(counts)\n",
    "    vqaoa_scores.append((error_prob, score))\n",
    "    print(f'With {error_prob*100:.1f}% error probability, Vanilla QAOA score = {score:.4f}')"
   ]
  },
  {
   "cell_type": "code",
   "execution_count": null,
   "id": "555c0ca7-e0c9-42fa-93bf-5557d9f5d9f6",
   "metadata": {},
   "outputs": [],
   "source": [
    "# Plot the results\n",
    "fig, ax = plt.subplots(dpi=150)\n",
    "width = 0.1\n",
    "\n",
    "for i, (error_prob, score) in enumerate(vqaoa_scores):\n",
    "    \n",
    "    x = width * i\n",
    "    ax.bar(x, score, width=width, label=f'{error_prob * 100:.1f}%', align='edge')\n",
    "\n",
    "ax.legend()\n",
    "ax.set_title('Vanilla QAOA Scores')\n",
    "ax.get_xaxis().set_visible(False)"
   ]
  },
  {
   "cell_type": "markdown",
   "id": "996c327d-7030-4804-924f-64eb60099a20",
   "metadata": {},
   "source": [
    "# Features"
   ]
  },
  {
   "cell_type": "code",
   "execution_count": null,
   "id": "74ef2e74-737e-43a3-9f38-ada6b80a70e3",
   "metadata": {},
   "outputs": [],
   "source": [
    "# GHZ feature example\n",
    "title = 'GHZ'\n",
    "labels = ['3 qubits', '5 qubits', '7 qubits', '11 qubits']\n",
    "feature_vecs = []\n",
    "for nq in [3, 5, 7, 11]:\n",
    "    circ = supermarq.ghz.GHZ(nq).circuit()\n",
    "    con = supermarq.features.compute_connectivity(circ)\n",
    "    liv = supermarq.features.compute_liveness(circ)\n",
    "    par = supermarq.features.compute_parallelism(circ)\n",
    "    mea = supermarq.features.compute_measurement(circ)\n",
    "    ent = supermarq.features.compute_entanglement(circ)\n",
    "    dep = supermarq.features.compute_depth(circ)\n",
    "    feature_vecs.append([con, liv, par, mea, ent, dep])\n",
    "    \n",
    "spoke_labels = ['PC', 'Liv', 'Par', 'Mea', 'Ent', 'CD']\n",
    "supermarq.features.plot_benchmark([title, labels, feature_vecs], spoke_labels=spoke_labels, legend_loc=(0.1, 0.25))"
   ]
  },
  {
   "cell_type": "code",
   "execution_count": null,
   "id": "56c8abec-4823-4ed6-ba1c-87a80e80c86a",
   "metadata": {},
   "outputs": [],
   "source": [
    "# Vanilla QAOA feature example\n",
    "title = 'QAOA Vanilla Proxy'\n",
    "labels = ['4 qubits', '5 qubits', '7 qubits', '11 qubits']\n",
    "feature_vecs = []\n",
    "for nq in [4, 5, 7, 11]:\n",
    "    circ = supermarq.qaoa_vanilla_proxy.QAOAVanillaProxy(nq).circuit()\n",
    "    con = supermarq.features.compute_connectivity(circ)\n",
    "    liv = supermarq.features.compute_liveness(circ)\n",
    "    par = supermarq.features.compute_parallelism(circ)\n",
    "    mea = supermarq.features.compute_measurement(circ)\n",
    "    ent = supermarq.features.compute_entanglement(circ)\n",
    "    dep = supermarq.features.compute_depth(circ)\n",
    "    feature_vecs.append([con, liv, par, mea, ent, dep])\n",
    "    \n",
    "spoke_labels = ['PC', 'Liv', 'Par', 'Mea', 'Ent', 'CD']\n",
    "supermarq.features.plot_benchmark([title, labels, feature_vecs], spoke_labels=spoke_labels, legend_loc=(0.33, 0.05))"
   ]
  },
  {
   "cell_type": "markdown",
   "id": "3d3d7b60-cacf-45f2-88c5-6568627c3af7",
   "metadata": {},
   "source": [
    "# Correlations"
   ]
  },
  {
   "cell_type": "code",
   "execution_count": null,
   "id": "89bd682c-6a33-41cf-9df6-2813846af444",
   "metadata": {},
   "outputs": [],
   "source": [
    "import pandas as pd\n",
    "from plotting_functions import heatmap, annotate_heatmap, regression_plot"
   ]
  },
  {
   "cell_type": "code",
   "execution_count": null,
   "id": "b30578bd-c706-4ccc-8cd6-e659cb81a4c0",
   "metadata": {},
   "outputs": [],
   "source": [
    "# Load the dataframes from the data/ directory\n",
    "feature_df = pd.read_pickle('data/feature_dataframe.pickle')\n",
    "score_df = pd.read_pickle('data/benchmark_scores_dataframe.pickle')"
   ]
  },
  {
   "cell_type": "code",
   "execution_count": null,
   "id": "6868f7a3-9173-4bf9-809d-0115a2df0db3",
   "metadata": {},
   "outputs": [],
   "source": [
    "# Create the correlation dataframes including the error-correction benchmarks\n",
    "correlation_wEC_df = pd.DataFrame(data=None, index=score_df.index, columns=feature_df.columns)\n",
    "correlation_wEC_df.head()"
   ]
  },
  {
   "cell_type": "code",
   "execution_count": null,
   "id": "1414fb9c-ce4a-4c32-adbb-dcc9ef31db67",
   "metadata": {},
   "outputs": [],
   "source": [
    "for feature in correlation_wEC_df.columns:\n",
    "    \n",
    "    application_features = feature_df.loc[:, feature]\n",
    "    \n",
    "    for device in correlation_wEC_df.index:\n",
    "        scores = score_df.loc[device, :]\n",
    "\n",
    "        x, y = [], []\n",
    "        for benchmark in scores.index:\n",
    "            #if 'code' in benchmark:\n",
    "            #    continue\n",
    "            if isinstance(scores.loc[benchmark], tuple):\n",
    "                x.append(application_features.loc[benchmark])\n",
    "                y.append(scores.loc[benchmark][0])\n",
    "\n",
    "        X = np.array(x)[:, np.newaxis]\n",
    "        Y = np.array(y)\n",
    "        model = LinearRegression().fit(X, Y)\n",
    "        correlation = model.score(X, Y)        \n",
    "        correlation_wEC_df.loc[device, feature] = correlation\n",
    "correlation_wEC_df.head()"
   ]
  },
  {
   "cell_type": "code",
   "execution_count": null,
   "id": "ed30f1cf-b60b-4bfc-b295-eada9f41bd67",
   "metadata": {},
   "outputs": [],
   "source": [
    "# Create the correlation dataframes excluding the error-correction benchmarks\n",
    "correlation_woEC_df = pd.DataFrame(data=None, index=score_df.index, columns=feature_df.columns)\n",
    "correlation_woEC_df.head()"
   ]
  },
  {
   "cell_type": "code",
   "execution_count": null,
   "id": "fd0e2944-f308-4221-81ce-9ab7fb099b06",
   "metadata": {},
   "outputs": [],
   "source": [
    "for feature in correlation_woEC_df.columns:\n",
    "    \n",
    "    application_features = feature_df.loc[:, feature]\n",
    "    \n",
    "    for device in correlation_woEC_df.index:\n",
    "        scores = score_df.loc[device, :]\n",
    "\n",
    "        x, y = [], []\n",
    "        for benchmark in scores.index:\n",
    "            if 'code' in benchmark:\n",
    "                continue\n",
    "            if isinstance(scores.loc[benchmark], tuple):\n",
    "                x.append(application_features.loc[benchmark])\n",
    "                y.append(scores.loc[benchmark][0])\n",
    "\n",
    "        X = np.array(x)[:, np.newaxis]\n",
    "        Y = np.array(y)\n",
    "        model = LinearRegression().fit(X, Y)\n",
    "        correlation = model.score(X, Y)        \n",
    "        correlation_woEC_df.loc[device, feature] = correlation\n",
    "correlation_woEC_df.head()"
   ]
  },
  {
   "cell_type": "code",
   "execution_count": null,
   "id": "e528b50a-62bf-4cf6-9790-37044685352a",
   "metadata": {},
   "outputs": [],
   "source": [
    "# Plot correlations INCLUDING error-correction Benchmarks\n",
    "fig, ax = plt.subplots(dpi=300)\n",
    "\n",
    "rows = ['AQT-4Q', 'IBM-\\nCasablanca-7Q', 'IBM-\\nGuadalupe-16Q', 'IonQ-11Q', 'IBM-Lagos-7Q', 'IBM-Montreal-27Q', 'IBM-Mumbai-27Q', 'IBM-Santiago-5Q', 'IBM-Toronto-27Q']\n",
    "cols = ['PC', 'Liv', 'Par', 'Mea', 'Ent', 'CD', 'Qubits', '2q-gates', 'Depth']\n",
    "subset_df = correlation_wEC_df.loc[:,[ 'Communication', 'Liveness', 'Parallelism', 'midMea', 'Entanglement', 'Depth', 'qubits', 'entangling-gates', 'regular-depth']]\n",
    "im, _ = heatmap(subset_df.to_numpy(dtype=float), rows, cols, ax=ax,\n",
    "                cmap=\"cool\", vmin=0, vmax=0.5,\n",
    "                cbarlabel=r\"Coefficient of Determination, $R^2$\",\n",
    "                cbar_kw={'pad':0.01})\n",
    "\n",
    "annotate_heatmap(im, size=7)\n",
    "\n",
    "ax.annotate(\"\", xy=(0.668, 1.06), xycoords='axes fraction',\n",
    "            xytext=(0.668, -0.06), textcoords='axes fraction',\n",
    "            arrowprops=dict(arrowstyle=\"-\", connectionstyle=\"arc3\", color='r'))\n",
    "ax.annotate(\"\", xy=(0.4, -0.028), xycoords='axes fraction',\n",
    "            xytext=(0.47, -0.028), textcoords='axes fraction',\n",
    "            arrowprops=dict(arrowstyle=\"->\", connectionstyle=\"arc3\"))\n",
    "ax.annotate('This work', (0.47,-0.04), xycoords='axes fraction', fontsize=8)\n",
    "ax.annotate('Typical features', (0.7,-0.04), xycoords='axes fraction', fontsize=8, horizontalalignment='left')\n",
    "\n",
    "plt.tight_layout()\n",
    "plt.show()\n",
    "plt.close()"
   ]
  },
  {
   "cell_type": "code",
   "execution_count": null,
   "id": "d61ea4b2-50ae-42b8-bd23-c5a0aad56fa7",
   "metadata": {},
   "outputs": [],
   "source": [
    "# Plot correlations EXCLUDING error-correction Benchmarks\n",
    "fig, ax = plt.subplots(dpi=300)\n",
    "\n",
    "rows = ['AQT-4Q', 'IBM-\\nCasablanca-7Q', 'IBM-\\nGuadalupe-16Q', 'IonQ-11Q', 'IBM-Lagos-7Q', 'IBM-Montreal-27Q', 'IBM-Mumbai-27Q', 'IBM-Santiago-5Q', 'IBM-Toronto-27Q']\n",
    "cols = ['PC', 'Liv', 'Par', 'Mea', 'Ent', 'CD', 'Qubits', '2q-gates', 'Depth']\n",
    "subset_df = correlation_woEC_df.loc[:,[ 'Communication', 'Liveness', 'Parallelism', 'midMea', 'Entanglement', 'Depth', 'qubits', 'entangling-gates', 'regular-depth']]\n",
    "im, _ = heatmap(subset_df.to_numpy(dtype=float), rows, cols, ax=ax,\n",
    "                cmap=\"cool\", vmin=0, vmax=0.5,\n",
    "                cbarlabel=r\"Coefficient of Determination, $R^2$\",\n",
    "                cbar_kw={'pad':0.01})\n",
    "\n",
    "annotate_heatmap(im, size=7)\n",
    "\n",
    "ax.annotate(\"\", xy=(0.668, 1.06), xycoords='axes fraction',\n",
    "            xytext=(0.668, -0.06), textcoords='axes fraction',\n",
    "            arrowprops=dict(arrowstyle=\"-\", connectionstyle=\"arc3\", color='r'))\n",
    "ax.annotate(\"\", xy=(0.4, -0.028), xycoords='axes fraction',\n",
    "            xytext=(0.47, -0.028), textcoords='axes fraction',\n",
    "            arrowprops=dict(arrowstyle=\"->\", connectionstyle=\"arc3\"))\n",
    "ax.annotate('This work', (0.47,-0.04), xycoords='axes fraction', fontsize=8)\n",
    "ax.annotate('Typical features', (0.7,-0.04), xycoords='axes fraction', fontsize=8, horizontalalignment='left')\n",
    "\n",
    "plt.tight_layout()\n",
    "plt.show()\n",
    "plt.close()"
   ]
  },
  {
   "cell_type": "code",
   "execution_count": null,
   "id": "24e06552-3ffd-4c12-8ef5-12fdbe6a749c",
   "metadata": {},
   "outputs": [],
   "source": [
    "# Plot the perfomance correlation of between individual devices and features\n",
    "print(list(feature_df.columns))\n",
    "print(list(score_df.index))\n",
    "device = 'toronto'\n",
    "feature = 'Entanglement'\n",
    "regression_plot(device, feature, feature_df, score_df)"
   ]
  },
  {
   "cell_type": "code",
   "execution_count": null,
   "id": "1e2fc6ce",
   "metadata": {},
   "outputs": [],
   "source": []
  },
  {
   "cell_type": "code",
   "execution_count": null,
   "id": "5d797ed4",
   "metadata": {},
   "outputs": [],
   "source": []
  },
  {
   "cell_type": "code",
   "execution_count": null,
   "id": "1c0231d7",
   "metadata": {},
   "outputs": [],
   "source": []
  }
 ],
 "metadata": {
  "kernelspec": {
   "display_name": "Python 3 (ipykernel)",
   "language": "python",
   "name": "python3"
  },
  "language_info": {
   "codemirror_mode": {
    "name": "ipython",
    "version": 3
   },
   "file_extension": ".py",
   "mimetype": "text/x-python",
   "name": "python",
   "nbconvert_exporter": "python",
   "pygments_lexer": "ipython3",
   "version": "3.9.0"
  }
 },
 "nbformat": 4,
 "nbformat_minor": 5
}
